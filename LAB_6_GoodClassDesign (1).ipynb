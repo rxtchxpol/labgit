{
  "nbformat": 4,
  "nbformat_minor": 0,
  "metadata": {
    "colab": {
      "provenance": []
    },
    "kernelspec": {
      "name": "python3",
      "display_name": "Python 3"
    },
    "language_info": {
      "name": "python"
    }
  },
  "cells": [
    {
      "cell_type": "markdown",
      "source": [
        "# Lab: Refactoring for Better Class Design\n",
        "\n",
        "Objectives\n",
        "\n",
        "\n",
        "1.   Improve cohesion by ensuring each class has a single, clear responsibility.\n",
        "2.   Reduce coupling to minimize dependencies between classes.\n",
        "3. Apply refactoring techniques to make the code more maintainable.\n",
        "4. Use Representation-Driven Design (RDD) by utilizing private variables and controlled access.\n",
        "\n",
        "\n",
        "\n",
        "\n",
        "\n"
      ],
      "metadata": {
        "id": "gkAU-xV_kVIU"
      }
    },
    {
      "cell_type": "code",
      "execution_count": null,
      "metadata": {
        "id": "VYBDnZcAkD4Z"
      },
      "outputs": [],
      "source": [
        "class GameCharacter:\n",
        "    def __init__(self, player_id, name, hp, attack, defense):\n",
        "        self.__player_id = player_id\n",
        "        self.__name = name\n",
        "        self.__hp = hp\n",
        "        self.__attack = attack\n",
        "        self.__defense = defense\n",
        "        self.__level = 1\n",
        "        self.__experience = 0\n",
        "        self.__inventory = Inventory()\n",
        "\n",
        "    def gain_experience(self, points):\n",
        "        self.__experience += points\n",
        "        if self.__experience >= 100:\n",
        "            self.level_up()\n",
        "\n",
        "    def level_up(self):\n",
        "        self.__level += 1\n",
        "        self.__attack += 5\n",
        "        self.__defense += 3\n",
        "        self.__hp += 10\n",
        "        self.__experience = 0\n",
        "        print(f\"{self.__name} leveled up to level {self.__level}!\")\n",
        "\n",
        "    def display_status(self):\n",
        "        print(f\"Player ID: {self.__player_id}, Name: {self.__name}, HP: {self.__hp}, Attack: {self.__attack}, Defense: {self.__defense}, Level: {self.__level}\")\n",
        "\n",
        "\n",
        "    def get_name(self):\n",
        "        return self.__name\n",
        "\n",
        "    def get_hp(self):\n",
        "        return self.__hp\n",
        "\n",
        "    def get_attack(self):\n",
        "        return self.__attack\n",
        "\n",
        "    def get_defense(self):\n",
        "        return self.__defense\n",
        "\n",
        "    def get_level(self):\n",
        "        return self.__level\n",
        "\n",
        "    def get_inventory(self):\n",
        "        return self.__inventory\n",
        "\n",
        "    def set_name(self, name):\n",
        "        self.__name = name\n",
        "\n",
        "    def set_hp(self, hp):\n",
        "        self.__hp = max(0, hp)\n",
        "\n",
        "    def set_attack(self, attack):\n",
        "        self.__attack = max(0, attack)\n",
        "\n",
        "    def set_defense(self, defense):\n",
        "        self.__defense = max(0, defense)\n",
        "\n",
        "\n",
        "class Inventory:\n",
        "    def __init__(self):\n",
        "        self.__items = []\n",
        "        self.__gold = 100\n",
        "\n",
        "    def add_item(self, item):\n",
        "        self.__items.append(item)\n",
        "        print(f\"Added {item} to inventory!\")\n",
        "\n",
        "    def use_potion(self):\n",
        "        if \"potion\" in self.__items:\n",
        "            self.__items.remove(\"potion\")\n",
        "            print(\"Potion used! HP restored.\")\n",
        "        else:\n",
        "            print(\"No potion available!\")\n",
        "\n",
        "    def show_inventory(self):\n",
        "        print(f\"Inventory: {self.__items}, Gold: {self.__gold}\")\n",
        "\n",
        "    def get_items(self):\n",
        "        return self.__items\n",
        "\n",
        "    def get_gold(self):\n",
        "        return self.__gold\n",
        "\n",
        "    def set_gold(self, gold):\n",
        "        self.__gold = max(0, gold)\n",
        "\n",
        "\n",
        "class Shop:\n",
        "    def __init__(self):\n",
        "        self.__items = {\"sword\": 50, \"shield\": 40, \"potion\": 20}\n",
        "\n",
        "    def buy(self, character, item):\n",
        "        if item in self.__items and character.get_inventory().get_gold() >= self.__items[item]:\n",
        "            character.get_inventory().set_gold(character.get_inventory().get_gold() - self.__items[item])\n",
        "            character.get_inventory().add_item(item)\n",
        "            print(f\"{character.get_name()} bought {item}!\")\n",
        "        else:\n",
        "            print(\"Not enough gold or item not available!\")\n",
        "\n",
        "\n",
        "class BattleSystem:\n",
        "    @staticmethod\n",
        "    def attack(attacker, defender):\n",
        "        damage = max(0, attacker.get_attack() - defender.get_defense())\n",
        "        defender.set_hp(defender.get_hp() - damage)\n",
        "        print(f\"{attacker.get_name()} attacks {defender.get_name()} for {damage} damage!\")\n",
        "        if defender.get_hp() <= 0:\n",
        "            print(f\"{defender.get_name()} is defeated!\")\n"
      ]
    },
    {
      "cell_type": "markdown",
      "source": [
        "What's the problem of the code above?"
      ],
      "metadata": {
        "id": "3RzRttMFkxNX"
      }
    },
    {
      "cell_type": "code",
      "source": [
        "คลาส GameCharacter มีหน้าที่มาก\n",
        "การจัดการไอเท็มและเงินควรแยกออกเป็นคลาสinventory\n",
        "ระบบร้านค้าและการต่อสู้ควรเป็นคลาสแยกเพื่อให้ง่ายต่อการแก้"
      ],
      "metadata": {
        "id": "EKElSbXmlCL4"
      },
      "execution_count": null,
      "outputs": []
    },
    {
      "cell_type": "markdown",
      "source": [
        "What's your solution to modify the code?\n",
        "\n",
        "Hint: The modified version should contain 3 - 4 classes"
      ],
      "metadata": {
        "id": "YoHUvxGYtBP0"
      }
    },
    {
      "cell_type": "code",
      "source": [
        "แยกหน้าที่คลาส\n",
        "ลดการทำง่านของคลาส\n",
        "ให้แต่ละคลาสมีหน้าที่ชัดเจน"
      ],
      "metadata": {
        "id": "D516rZvotJ6H"
      },
      "execution_count": null,
      "outputs": []
    },
    {
      "cell_type": "markdown",
      "source": [
        "Refactor the code using good class design principle."
      ],
      "metadata": {
        "id": "33deEtYdl8uy"
      }
    },
    {
      "cell_type": "code",
      "source": [
        "GameCharacter = ดูแลข้อมูลของตัวละคร\n",
        "Inventory = จัดการไอเท็มและทอง\n",
        "Shop = ระบบร้านค้า สำหรับการซื้อของ\n",
        "BattleSystem = ระบบการต่อสู้ เช่น\n"
      ],
      "metadata": {
        "id": "TG5K1NO7l_JE"
      },
      "execution_count": null,
      "outputs": []
    }
  ]
}